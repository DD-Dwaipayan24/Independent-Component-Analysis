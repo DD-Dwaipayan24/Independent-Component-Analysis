{
 "cells": [
  {
   "cell_type": "code",
   "execution_count": 4,
   "id": "d2f350c5-3987-4da6-b76d-8c7f83b70f4c",
   "metadata": {},
   "outputs": [],
   "source": [
    "import numpy as np\n",
    "import pandas as pd\n",
    "import math\n",
    "import warnings\n",
    "warnings.filterwarnings('ignore')"
   ]
  },
  {
   "cell_type": "code",
   "execution_count": 5,
   "id": "354985d7-9906-4789-be3c-affd36045a1e",
   "metadata": {},
   "outputs": [],
   "source": [
    "data = pd.read_csv(\"Data1.csv\")\n",
    "data = data.drop('Unnamed: 0', axis = 1)"
   ]
  },
  {
   "cell_type": "code",
   "execution_count": 6,
   "id": "f7924055-cc0c-4ef5-8e39-2c1bc6e73309",
   "metadata": {},
   "outputs": [
    {
     "data": {
      "text/html": [
       "<div>\n",
       "<style scoped>\n",
       "    .dataframe tbody tr th:only-of-type {\n",
       "        vertical-align: middle;\n",
       "    }\n",
       "\n",
       "    .dataframe tbody tr th {\n",
       "        vertical-align: top;\n",
       "    }\n",
       "\n",
       "    .dataframe thead th {\n",
       "        text-align: right;\n",
       "    }\n",
       "</style>\n",
       "<table border=\"1\" class=\"dataframe\">\n",
       "  <thead>\n",
       "    <tr style=\"text-align: right;\">\n",
       "      <th></th>\n",
       "      <th>0</th>\n",
       "      <th>1</th>\n",
       "      <th>2</th>\n",
       "    </tr>\n",
       "  </thead>\n",
       "  <tbody>\n",
       "    <tr>\n",
       "      <th>0</th>\n",
       "      <td>-0.744863</td>\n",
       "      <td>-0.914015</td>\n",
       "      <td>-1.815700</td>\n",
       "    </tr>\n",
       "    <tr>\n",
       "      <th>1</th>\n",
       "      <td>0.039325</td>\n",
       "      <td>1.064930</td>\n",
       "      <td>-1.587150</td>\n",
       "    </tr>\n",
       "    <tr>\n",
       "      <th>2</th>\n",
       "      <td>-0.407660</td>\n",
       "      <td>0.397869</td>\n",
       "      <td>-1.909981</td>\n",
       "    </tr>\n",
       "    <tr>\n",
       "      <th>3</th>\n",
       "      <td>0.033789</td>\n",
       "      <td>0.967298</td>\n",
       "      <td>-1.014872</td>\n",
       "    </tr>\n",
       "    <tr>\n",
       "      <th>4</th>\n",
       "      <td>-0.179156</td>\n",
       "      <td>0.695176</td>\n",
       "      <td>-1.491172</td>\n",
       "    </tr>\n",
       "    <tr>\n",
       "      <th>...</th>\n",
       "      <td>...</td>\n",
       "      <td>...</td>\n",
       "      <td>...</td>\n",
       "    </tr>\n",
       "    <tr>\n",
       "      <th>1995</th>\n",
       "      <td>0.398439</td>\n",
       "      <td>-0.292394</td>\n",
       "      <td>1.984417</td>\n",
       "    </tr>\n",
       "    <tr>\n",
       "      <th>1996</th>\n",
       "      <td>0.990135</td>\n",
       "      <td>0.141825</td>\n",
       "      <td>2.818675</td>\n",
       "    </tr>\n",
       "    <tr>\n",
       "      <th>1997</th>\n",
       "      <td>0.238568</td>\n",
       "      <td>-0.284869</td>\n",
       "      <td>1.386192</td>\n",
       "    </tr>\n",
       "    <tr>\n",
       "      <th>1998</th>\n",
       "      <td>-0.006532</td>\n",
       "      <td>-0.993170</td>\n",
       "      <td>1.481348</td>\n",
       "    </tr>\n",
       "    <tr>\n",
       "      <th>1999</th>\n",
       "      <td>-3.003015</td>\n",
       "      <td>-3.628169</td>\n",
       "      <td>-4.825869</td>\n",
       "    </tr>\n",
       "  </tbody>\n",
       "</table>\n",
       "<p>2000 rows × 3 columns</p>\n",
       "</div>"
      ],
      "text/plain": [
       "             0         1         2\n",
       "0    -0.744863 -0.914015 -1.815700\n",
       "1     0.039325  1.064930 -1.587150\n",
       "2    -0.407660  0.397869 -1.909981\n",
       "3     0.033789  0.967298 -1.014872\n",
       "4    -0.179156  0.695176 -1.491172\n",
       "...        ...       ...       ...\n",
       "1995  0.398439 -0.292394  1.984417\n",
       "1996  0.990135  0.141825  2.818675\n",
       "1997  0.238568 -0.284869  1.386192\n",
       "1998 -0.006532 -0.993170  1.481348\n",
       "1999 -3.003015 -3.628169 -4.825869\n",
       "\n",
       "[2000 rows x 3 columns]"
      ]
     },
     "execution_count": 6,
     "metadata": {},
     "output_type": "execute_result"
    }
   ],
   "source": [
    "data"
   ]
  },
  {
   "cell_type": "code",
   "execution_count": 38,
   "id": "a315b0e7-ef32-4508-bb1c-91e0382c6fb1",
   "metadata": {},
   "outputs": [],
   "source": [
    "#defining sigmoidal function\n",
    "def sigmoidal(x):\n",
    "    y = 1/(1 + np.exp(-x))\n",
    "    return y\n",
    "\n",
    "#defining logistic function\n",
    "def logistic_pdf(x):\n",
    "    y = sigmoidal(x)(1 - sigmoidal(x))\n",
    "    return y\n",
    "\n",
    "\n",
    "#creating data matrix of givaen signals\n",
    "def signal_data_matrix(data):\n",
    "    X = []\n",
    "    for i in range(len(data)):\n",
    "        a = []\n",
    "        for j in range(len(data.columns)):\n",
    "            a.append(data.iloc[i][j])\n",
    "        X.append(a)\n",
    "    return np.matrix(X)\n",
    "\n",
    "#defining Frobenius norm\n",
    "def Frobenius_norm(A):\n",
    "    A = np.array(A)\n",
    "    x = 0\n",
    "    for i in range(len(A)):\n",
    "        for j in range(len(A[0])):\n",
    "            x += A[i][j]**2\n",
    "    return math.sqrt(x)\n",
    "        \n",
    "\n",
    "def ICA(data,alpha):\n",
    "    X = signal_data_matrix(data)\n",
    "    \n",
    "    #initialize the matrix\n",
    "    W_new = np.matrix(np.eye(len(X.T)))\n",
    "\n",
    "    W_old = W_new + 1\n",
    "\n",
    "    while Frobenius_norm(W_new - W_old)>0.0001:\n",
    "        W_old = W_new\n",
    "        \n",
    "\n",
    "        for i in range(len(X)):\n",
    "            lis = []\n",
    "            for j in range(len(X.T)):\n",
    "                lis.append(1 - sigmoidal(float(np.matmul(W_old[j],X[i].T))))\n",
    "            lis = np.matrix(lis).T\n",
    "            W_new = W_old + alpha*(np.matmul(lis,X[i]) + np.linalg.inv(W_old.T))\n",
    "        return np.matmul(W_new,X.T).T\n",
    "    \n",
    "\n",
    "    \n"
   ]
  },
  {
   "cell_type": "code",
   "execution_count": 39,
   "id": "ae1bd22b-fb10-4c9e-9c8d-f33ca2898497",
   "metadata": {},
   "outputs": [
    {
     "data": {
      "text/plain": [
       "-0.7448631476895698"
      ]
     },
     "execution_count": 39,
     "metadata": {},
     "output_type": "execute_result"
    }
   ],
   "source": [
    "X = signal_data_matrix(data)\n",
    "len(X.T)\n",
    "W_new = np.matrix(np.eye(len(X.T)))\n",
    "float(np.matmul(W_new[0],X[0].T))"
   ]
  },
  {
   "cell_type": "code",
   "execution_count": 40,
   "id": "bde85ed7-c65d-478b-b949-8fd9f47c6d41",
   "metadata": {},
   "outputs": [
    {
     "data": {
      "text/plain": [
       "matrix([[-0.61592782, -0.78370598, -1.6918426 ],\n",
       "        [ 0.07475473,  1.11140297, -1.56653902],\n",
       "        [-0.32601223,  0.48949931, -1.83981682],\n",
       "        ...,\n",
       "        [ 0.1802426 , -0.34979328,  1.33683665],\n",
       "        [-0.04018798, -1.03744742,  1.46118453],\n",
       "        [-2.59984109, -3.22151006, -4.42303758]])"
      ]
     },
     "execution_count": 40,
     "metadata": {},
     "output_type": "execute_result"
    }
   ],
   "source": [
    "ICA(data,0.01)"
   ]
  },
  {
   "cell_type": "code",
   "execution_count": null,
   "id": "370b4da6-57b0-441b-84ff-521dd66d468b",
   "metadata": {},
   "outputs": [],
   "source": []
  }
 ],
 "metadata": {
  "kernelspec": {
   "display_name": "Python 3 (ipykernel)",
   "language": "python",
   "name": "python3"
  },
  "language_info": {
   "codemirror_mode": {
    "name": "ipython",
    "version": 3
   },
   "file_extension": ".py",
   "mimetype": "text/x-python",
   "name": "python",
   "nbconvert_exporter": "python",
   "pygments_lexer": "ipython3",
   "version": "3.10.12"
  }
 },
 "nbformat": 4,
 "nbformat_minor": 5
}
