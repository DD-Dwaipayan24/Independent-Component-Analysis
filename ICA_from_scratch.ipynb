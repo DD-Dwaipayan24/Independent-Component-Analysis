{
 "cells": [
  {
   "cell_type": "code",
   "execution_count": 1,
   "id": "d2f350c5-3987-4da6-b76d-8c7f83b70f4c",
   "metadata": {},
   "outputs": [],
   "source": [
    "import numpy as np\n",
    "import pandas as pd\n",
    "import math\n",
    "import warnings\n",
    "import matplotlib.pyplot as graph\n",
    "warnings.filterwarnings('ignore')"
   ]
  },
  {
   "cell_type": "code",
   "execution_count": 2,
   "id": "354985d7-9906-4789-be3c-affd36045a1e",
   "metadata": {},
   "outputs": [],
   "source": [
    "data = pd.read_csv(\"Data1.csv\")\n",
    "data = data.drop('Unnamed: 0', axis = 1)"
   ]
  },
  {
   "cell_type": "code",
   "execution_count": 3,
   "id": "f7924055-cc0c-4ef5-8e39-2c1bc6e73309",
   "metadata": {},
   "outputs": [
    {
     "data": {
      "text/html": [
       "<div>\n",
       "<style scoped>\n",
       "    .dataframe tbody tr th:only-of-type {\n",
       "        vertical-align: middle;\n",
       "    }\n",
       "\n",
       "    .dataframe tbody tr th {\n",
       "        vertical-align: top;\n",
       "    }\n",
       "\n",
       "    .dataframe thead th {\n",
       "        text-align: right;\n",
       "    }\n",
       "</style>\n",
       "<table border=\"1\" class=\"dataframe\">\n",
       "  <thead>\n",
       "    <tr style=\"text-align: right;\">\n",
       "      <th></th>\n",
       "      <th>0</th>\n",
       "      <th>1</th>\n",
       "      <th>2</th>\n",
       "    </tr>\n",
       "  </thead>\n",
       "  <tbody>\n",
       "    <tr>\n",
       "      <th>0</th>\n",
       "      <td>-0.744863</td>\n",
       "      <td>-0.914015</td>\n",
       "      <td>-1.815700</td>\n",
       "    </tr>\n",
       "    <tr>\n",
       "      <th>1</th>\n",
       "      <td>0.039325</td>\n",
       "      <td>1.064930</td>\n",
       "      <td>-1.587150</td>\n",
       "    </tr>\n",
       "    <tr>\n",
       "      <th>2</th>\n",
       "      <td>-0.407660</td>\n",
       "      <td>0.397869</td>\n",
       "      <td>-1.909981</td>\n",
       "    </tr>\n",
       "    <tr>\n",
       "      <th>3</th>\n",
       "      <td>0.033789</td>\n",
       "      <td>0.967298</td>\n",
       "      <td>-1.014872</td>\n",
       "    </tr>\n",
       "    <tr>\n",
       "      <th>4</th>\n",
       "      <td>-0.179156</td>\n",
       "      <td>0.695176</td>\n",
       "      <td>-1.491172</td>\n",
       "    </tr>\n",
       "    <tr>\n",
       "      <th>...</th>\n",
       "      <td>...</td>\n",
       "      <td>...</td>\n",
       "      <td>...</td>\n",
       "    </tr>\n",
       "    <tr>\n",
       "      <th>1995</th>\n",
       "      <td>0.398439</td>\n",
       "      <td>-0.292394</td>\n",
       "      <td>1.984417</td>\n",
       "    </tr>\n",
       "    <tr>\n",
       "      <th>1996</th>\n",
       "      <td>0.990135</td>\n",
       "      <td>0.141825</td>\n",
       "      <td>2.818675</td>\n",
       "    </tr>\n",
       "    <tr>\n",
       "      <th>1997</th>\n",
       "      <td>0.238568</td>\n",
       "      <td>-0.284869</td>\n",
       "      <td>1.386192</td>\n",
       "    </tr>\n",
       "    <tr>\n",
       "      <th>1998</th>\n",
       "      <td>-0.006532</td>\n",
       "      <td>-0.993170</td>\n",
       "      <td>1.481348</td>\n",
       "    </tr>\n",
       "    <tr>\n",
       "      <th>1999</th>\n",
       "      <td>-3.003015</td>\n",
       "      <td>-3.628169</td>\n",
       "      <td>-4.825869</td>\n",
       "    </tr>\n",
       "  </tbody>\n",
       "</table>\n",
       "<p>2000 rows × 3 columns</p>\n",
       "</div>"
      ],
      "text/plain": [
       "             0         1         2\n",
       "0    -0.744863 -0.914015 -1.815700\n",
       "1     0.039325  1.064930 -1.587150\n",
       "2    -0.407660  0.397869 -1.909981\n",
       "3     0.033789  0.967298 -1.014872\n",
       "4    -0.179156  0.695176 -1.491172\n",
       "...        ...       ...       ...\n",
       "1995  0.398439 -0.292394  1.984417\n",
       "1996  0.990135  0.141825  2.818675\n",
       "1997  0.238568 -0.284869  1.386192\n",
       "1998 -0.006532 -0.993170  1.481348\n",
       "1999 -3.003015 -3.628169 -4.825869\n",
       "\n",
       "[2000 rows x 3 columns]"
      ]
     },
     "execution_count": 3,
     "metadata": {},
     "output_type": "execute_result"
    }
   ],
   "source": [
    "data"
   ]
  },
  {
   "cell_type": "code",
   "execution_count": 27,
   "id": "a315b0e7-ef32-4508-bb1c-91e0382c6fb1",
   "metadata": {},
   "outputs": [],
   "source": [
    "#defining sigmoidal function\n",
    "def sigmoidal(x):\n",
    "    y = 1/(1 + np.exp(-x))\n",
    "    return y\n",
    "\n",
    "#defining logistic function\n",
    "def logistic_pdf(x):\n",
    "    y = sigmoidal(x)(1 - sigmoidal(x))\n",
    "    return y\n",
    "\n",
    "\n",
    "#creating data matrix of givaen signals\n",
    "def signal_data_matrix(data):\n",
    "    X = []\n",
    "    for i in range(len(data)):\n",
    "        a = []\n",
    "        for j in range(len(data.columns)):\n",
    "            a.append(data.iloc[i][j])\n",
    "        X.append(a)\n",
    "    return np.matrix(X)\n",
    "\n",
    "#defining Frobenius norm\n",
    "def Frobenius_norm(A):\n",
    "    A = np.array(A)\n",
    "    x = 0\n",
    "    for i in range(len(A)):\n",
    "        for j in range(len(A[0])):\n",
    "            x += A[i][j]**2\n",
    "    return math.sqrt(x)\n",
    "\n",
    "# def whiten(X):\n",
    "#     # Calculate the covariance matrix\n",
    "#     coVarM = np.cov(np.array(X)) \n",
    "    \n",
    "#     # Single value decoposition\n",
    "#     U, S, V = np.linalg.svd(coVarM)\n",
    "    \n",
    "#     # Calculate diagonal matrix of eigenvalues\n",
    "#     d = np.diag(1.0 / np.sqrt(S)) \n",
    "    \n",
    "#     # Calculate whitening matrix\n",
    "#     whiteM = np.dot(U, np.dot(d, U.T))\n",
    "    \n",
    "#     # Project onto whitening matrix\n",
    "#     Xw = np.dot(whiteM, X) \n",
    "    \n",
    "#     return Xw, whiteM\n",
    "\n",
    "\n",
    "\n",
    "        \n",
    "\n",
    "def ICAS(data,alpha):\n",
    "    X = signal_data_matrix(data)\n",
    "\n",
    "    m = np.mean(np.array(X),axis = 0)\n",
    "    data1 = data\n",
    "    for i in range(len(data)):\n",
    "        data1.iloc[i] = data1.iloc[i] - m\n",
    "    X = signal_data_matrix(data1)\n",
    "\n",
    "    # X , w = whiten(X)\n",
    "\n",
    "    # X = np.matrix(X)\n",
    "    \n",
    "    #initialize the matrix\n",
    "    W_new = np.matrix(0.1*np.eye(len(X.T)))\n",
    "\n",
    "    W_old = W_new + 1\n",
    "    # print(W_old)\n",
    "    # print(W_new)\n",
    "    t = 0\n",
    "    # while Frobenius_norm(W_new - W_old)>1e-3:\n",
    "    for k in range(600):\n",
    "        W_old = W_new\n",
    "        # print(W_old)\n",
    "        t += 1\n",
    "        # print(t)\n",
    "\n",
    "        for i in range(len(X)):\n",
    "            lis = []\n",
    "            for j in range(len(X.T)):\n",
    "                lis.append(1 - 2*sigmoidal(float(np.matmul(W_old[j],X[i].T))))\n",
    "            lis = np.matrix(lis).T\n",
    "            W_new = W_old + alpha*(np.matmul(lis,X[i]) + np.linalg.inv(W_old.T))\n",
    "        # print(W_new-W_old)\n",
    "    return np.matmul(W_new,X.T).T\n",
    "    \n",
    "\n",
    "    \n"
   ]
  },
  {
   "cell_type": "code",
   "execution_count": 28,
   "id": "bde85ed7-c65d-478b-b949-8fd9f47c6d41",
   "metadata": {
    "scrolled": true
   },
   "outputs": [
    {
     "name": "stdout",
     "output_type": "stream",
     "text": [
      "[[-0.01297535  0.02630837 -0.70992865]\n",
      " [ 0.22215145  1.46729129 -1.42929936]\n",
      " [ 0.0485056   1.10698376 -1.2921928 ]\n",
      " ...\n",
      " [-0.207692   -0.78235544  0.83664285]\n",
      " [-0.3125776  -1.36851512  1.19612956]\n",
      " [-0.61169702 -0.74430181 -1.10330785]]\n"
     ]
    },
    {
     "data": {
      "text/plain": [
       "[<matplotlib.lines.Line2D at 0x7f0c029bd1b0>]"
      ]
     },
     "execution_count": 28,
     "metadata": {},
     "output_type": "execute_result"
    },
    {
     "data": {
      "image/png": "[encoded data removed]",
      "text/plain": [
       "<Figure size 432x288 with 1 Axes>"
      ]
     },
     "metadata": {
      "needs_background": "light"
     },
     "output_type": "display_data"
    }
   ],
   "source": [
    "Z = ICAS(data,0.001)\n",
    "print(Z)\n",
    "# print(X)\n",
    "x = np.array([float(i) for i in Z[:,0]]).T\n",
    "y = np.array([float(i) for i in Z[:,1]]).T\n",
    "z = np.array([float(i) for i in Z[:,2]]).T\n",
    "graph.plot([i for i in range(len(x))],x)\n",
    "graph.plot([i for i in range(len(y))],y)\n",
    "graph.plot([i for i in range(len(z))],z)"
   ]
  },
  {
   "cell_type": "code",
   "execution_count": null,
   "id": "57cb7485-2e69-4de1-9d27-c639cd2cbc1e",
   "metadata": {},
   "outputs": [],
   "source": [
    "m = np.mean(np.array(X),axis = 0)\n",
    "data1 = data\n",
    "for i in range(len(data)):\n",
    "    data1.iloc[i] = data1.iloc[i] - m\n",
    "data1"
   ]
  },
  {
   "cell_type": "code",
   "execution_count": null,
   "id": "2e96abd4-1ebc-42af-b287-a3ceb22671d9",
   "metadata": {},
   "outputs": [],
   "source": []
  },
  {
   "cell_type": "code",
   "execution_count": null,
   "id": "9fdf105d-39e3-4d70-865c-d120290b556a",
   "metadata": {},
   "outputs": [],
   "source": [
    "X = signal_data_matrix(data)\n",
    "x = np.array([float(i) for i in X[:,0]]).T\n",
    "y = np.array([float(i) for i in X[:,1]]).T\n",
    "z = np.array([float(i) for i in X[:,2]]).T\n",
    "graph.plot([i for i in range(len(x))],x)\n",
    "graph.plot([i for i in range(len(y))],y)\n",
    "graph.plot([i for i in range(len(z))],z)\n",
    "z"
   ]
  },
  {
   "cell_type": "code",
   "execution_count": null,
   "id": "52926c84-6fc7-4564-b211-6c1c2022fc56",
   "metadata": {},
   "outputs": [],
   "source": [
    "Z = ICA(data1,0.001)\n",
    "x = np.array([float(i) for i in Z[:,0]]).T\n",
    "y = np.array([float(i) for i in Z[:,1]]).T\n",
    "z = np.array([float(i) for i in Z[:,2]]).T\n",
    "graph.plot([i for i in range(len(x))],x)\n",
    "graph.plot([i for i in range(len(y))],y)\n",
    "graph.plot([i for i in range(len(z))],z)\n"
   ]
  },
  {
   "cell_type": "code",
   "execution_count": null,
   "id": "53eba11e-317b-48c6-83c3-b4a441611bcb",
   "metadata": {},
   "outputs": [],
   "source": [
    "X = signal_data_matrix(data)\n",
    "x = np.array([float(i) for i in X[:,0]]).T\n",
    "y = np.array([float(i) for i in X[:,1]]).T\n",
    "z = np.array([float(i) for i in X[:,2]]).T\n",
    "graph.plot([i for i in range(len(x))],x)\n",
    "graph.plot([i for i in range(len(y))],y)\n",
    "graph.plot([i for i in range(len(z))],z)\n",
    "z"
   ]
  },
  {
   "cell_type": "code",
   "execution_count": null,
   "id": "2a86794c-e8e6-4820-b8db-806194b3f7c5",
   "metadata": {},
   "outputs": [],
   "source": []
  },
  {
   "cell_type": "code",
   "execution_count": null,
   "id": "ca73e94b-0fcf-4e04-831f-c71536963742",
   "metadata": {},
   "outputs": [],
   "source": []
  },
  {
   "cell_type": "code",
   "execution_count": 18,
   "id": "059d3215-92ce-459a-a9b7-85178f63436b",
   "metadata": {},
   "outputs": [
    {
     "data": {
      "text/plain": [
       "(2000, 3)"
      ]
     },
     "execution_count": 18,
     "metadata": {},
     "output_type": "execute_result"
    }
   ],
   "source": [
    "from sklearn.decomposition import FastICA\n",
    "X = signal_data_matrix(data)\n",
    "transformer = FastICA(n_components=3, random_state=0,whiten='unit-variance')\n",
    "X_transformed = transformer.fit_transform(np.array(X))\n",
    "X_transformed.shape"
   ]
  },
  {
   "cell_type": "code",
   "execution_count": 19,
   "id": "a9e172e0-720a-44e0-951d-482cabb093ae",
   "metadata": {},
   "outputs": [
    {
     "data": {
      "text/plain": [
       "array([[ 0.39361241, -1.28656664,  0.00297646],\n",
       "       [ 0.49061271, -1.85044943,  1.25827346],\n",
       "       [ 0.14879342, -1.59142474,  0.87470119],\n",
       "       ...,\n",
       "       [-0.57696593,  1.28037534, -0.7235827 ],\n",
       "       [-0.68674074,  1.65102429, -1.23885345],\n",
       "       [-0.58272629, -1.62727775, -0.96359159]])"
      ]
     },
     "execution_count": 19,
     "metadata": {},
     "output_type": "execute_result"
    }
   ],
   "source": [
    "X_transformed"
   ]
  },
  {
   "cell_type": "code",
   "execution_count": 20,
   "id": "6b3aac40-0096-4351-8e48-0839104eb36c",
   "metadata": {},
   "outputs": [
    {
     "data": {
      "text/plain": [
       "[<matplotlib.lines.Line2D at 0x7f0c033749d0>]"
      ]
     },
     "execution_count": 20,
     "metadata": {},
     "output_type": "execute_result"
    },
    {
     "data": {
      "image/png": "[encoded data removed]",
      "text/plain": [
       "<Figure size 432x288 with 1 Axes>"
      ]
     },
     "metadata": {
      "needs_background": "light"
     },
     "output_type": "display_data"
    }
   ],
   "source": [
    "x = np.array([float(i) for i in X_transformed[:,0]]).T\n",
    "y = np.array([float(i) for i in X_transformed[:,1]]).T\n",
    "z = np.array([float(i) for i in X_transformed[:,2]]).T\n",
    "graph.plot([i for i in range(len(x))],x)\n",
    "graph.plot([i for i in range(len(y))],y)\n",
    "graph.plot([i for i in range(len(z))],z)"
   ]
  },
  {
   "cell_type": "code",
   "execution_count": null,
   "id": "180f9d00-1ec6-4142-a8f6-e6e2ad7876f0",
   "metadata": {},
   "outputs": [],
   "source": []
  }
 ],
 "metadata": {
  "kernelspec": {
   "display_name": "Python 3 (ipykernel)",
   "language": "python",
   "name": "python3"
  },
  "language_info": {
   "codemirror_mode": {
    "name": "ipython",
    "version": 3
   },
   "file_extension": ".py",
   "mimetype": "text/x-python",
   "name": "python",
   "nbconvert_exporter": "python",
   "pygments_lexer": "ipython3",
   "version": "3.10.12"
  }
 },
 "nbformat": 4,
 "nbformat_minor": 5
}
