{
 "cells": [
  {
   "cell_type": "code",
   "execution_count": 2,
   "id": "d2f350c5-3987-4da6-b76d-8c7f83b70f4c",
   "metadata": {},
   "outputs": [],
   "source": [
    "import numpy as np\n",
    "import pandas as pd\n",
    "import math\n",
    "import warnings\n",
    "import matplotlib.pyplot as graph\n",
    "warnings.filterwarnings('ignore')"
   ]
  },
  {
   "cell_type": "code",
   "execution_count": 3,
   "id": "354985d7-9906-4789-be3c-affd36045a1e",
   "metadata": {},
   "outputs": [],
   "source": [
    "data = pd.read_csv(\"Data1.csv\")\n",
    "data = data.drop('Unnamed: 0', axis = 1)"
   ]
  },
  {
   "cell_type": "code",
   "execution_count": 4,
   "id": "f7924055-cc0c-4ef5-8e39-2c1bc6e73309",
   "metadata": {},
   "outputs": [
    {
     "data": {
      "text/html": [
       "<div>\n",
       "<style scoped>\n",
       "    .dataframe tbody tr th:only-of-type {\n",
       "        vertical-align: middle;\n",
       "    }\n",
       "\n",
       "    .dataframe tbody tr th {\n",
       "        vertical-align: top;\n",
       "    }\n",
       "\n",
       "    .dataframe thead th {\n",
       "        text-align: right;\n",
       "    }\n",
       "</style>\n",
       "<table border=\"1\" class=\"dataframe\">\n",
       "  <thead>\n",
       "    <tr style=\"text-align: right;\">\n",
       "      <th></th>\n",
       "      <th>0</th>\n",
       "      <th>1</th>\n",
       "      <th>2</th>\n",
       "    </tr>\n",
       "  </thead>\n",
       "  <tbody>\n",
       "    <tr>\n",
       "      <th>0</th>\n",
       "      <td>-0.744863</td>\n",
       "      <td>-0.914015</td>\n",
       "      <td>-1.815700</td>\n",
       "    </tr>\n",
       "    <tr>\n",
       "      <th>1</th>\n",
       "      <td>0.039325</td>\n",
       "      <td>1.064930</td>\n",
       "      <td>-1.587150</td>\n",
       "    </tr>\n",
       "    <tr>\n",
       "      <th>2</th>\n",
       "      <td>-0.407660</td>\n",
       "      <td>0.397869</td>\n",
       "      <td>-1.909981</td>\n",
       "    </tr>\n",
       "    <tr>\n",
       "      <th>3</th>\n",
       "      <td>0.033789</td>\n",
       "      <td>0.967298</td>\n",
       "      <td>-1.014872</td>\n",
       "    </tr>\n",
       "    <tr>\n",
       "      <th>4</th>\n",
       "      <td>-0.179156</td>\n",
       "      <td>0.695176</td>\n",
       "      <td>-1.491172</td>\n",
       "    </tr>\n",
       "    <tr>\n",
       "      <th>...</th>\n",
       "      <td>...</td>\n",
       "      <td>...</td>\n",
       "      <td>...</td>\n",
       "    </tr>\n",
       "    <tr>\n",
       "      <th>1995</th>\n",
       "      <td>0.398439</td>\n",
       "      <td>-0.292394</td>\n",
       "      <td>1.984417</td>\n",
       "    </tr>\n",
       "    <tr>\n",
       "      <th>1996</th>\n",
       "      <td>0.990135</td>\n",
       "      <td>0.141825</td>\n",
       "      <td>2.818675</td>\n",
       "    </tr>\n",
       "    <tr>\n",
       "      <th>1997</th>\n",
       "      <td>0.238568</td>\n",
       "      <td>-0.284869</td>\n",
       "      <td>1.386192</td>\n",
       "    </tr>\n",
       "    <tr>\n",
       "      <th>1998</th>\n",
       "      <td>-0.006532</td>\n",
       "      <td>-0.993170</td>\n",
       "      <td>1.481348</td>\n",
       "    </tr>\n",
       "    <tr>\n",
       "      <th>1999</th>\n",
       "      <td>-3.003015</td>\n",
       "      <td>-3.628169</td>\n",
       "      <td>-4.825869</td>\n",
       "    </tr>\n",
       "  </tbody>\n",
       "</table>\n",
       "<p>2000 rows × 3 columns</p>\n",
       "</div>"
      ],
      "text/plain": [
       "             0         1         2\n",
       "0    -0.744863 -0.914015 -1.815700\n",
       "1     0.039325  1.064930 -1.587150\n",
       "2    -0.407660  0.397869 -1.909981\n",
       "3     0.033789  0.967298 -1.014872\n",
       "4    -0.179156  0.695176 -1.491172\n",
       "...        ...       ...       ...\n",
       "1995  0.398439 -0.292394  1.984417\n",
       "1996  0.990135  0.141825  2.818675\n",
       "1997  0.238568 -0.284869  1.386192\n",
       "1998 -0.006532 -0.993170  1.481348\n",
       "1999 -3.003015 -3.628169 -4.825869\n",
       "\n",
       "[2000 rows x 3 columns]"
      ]
     },
     "execution_count": 4,
     "metadata": {},
     "output_type": "execute_result"
    }
   ],
   "source": [
    "data"
   ]
  },
  {
   "cell_type": "code",
   "execution_count": 51,
   "id": "a315b0e7-ef32-4508-bb1c-91e0382c6fb1",
   "metadata": {},
   "outputs": [],
   "source": [
    "#defining sigmoidal function\n",
    "def sigmoidal(x):\n",
    "    y = 1/(1 + np.exp(-x))\n",
    "    return y\n",
    "\n",
    "#defining logistic function\n",
    "def logistic_pdf(x):\n",
    "    y = sigmoidal(x)(1 - sigmoidal(x))\n",
    "    return y\n",
    "\n",
    "\n",
    "#creating data matrix of givaen signals\n",
    "def signal_data_matrix(data):\n",
    "    X = []\n",
    "    for i in range(len(data)):\n",
    "        a = []\n",
    "        for j in range(len(data.columns)):\n",
    "            a.append(data.iloc[i][j])\n",
    "        X.append(a)\n",
    "    return np.matrix(X)\n",
    "\n",
    "#defining Frobenius norm\n",
    "def Frobenius_norm(A):\n",
    "    A = np.array(A)\n",
    "    x = 0\n",
    "    for i in range(len(A)):\n",
    "        for j in range(len(A[0])):\n",
    "            x += A[i][j]**2\n",
    "    return math.sqrt(x)\n",
    "\n",
    "\n",
    "def whiten(X):\n",
    "    # Calculate the covariance matrix\n",
    "    coVarM = np.cov(np.array(X)) \n",
    "    \n",
    "    # Single value decoposition\n",
    "    U, S, V = np.linalg.svd(coVarM)\n",
    "    \n",
    "    # Calculate diagonal matrix of eigenvalues\n",
    "    d = np.diag(1.0 / np.sqrt(S)) \n",
    "    \n",
    "    # Calculate whitening matrix\n",
    "    whiteM = np.dot(U, np.dot(d, U.T))\n",
    "    \n",
    "    # Project onto whitening matrix\n",
    "    Xw = np.dot(whiteM, X) \n",
    "    \n",
    "    return Xw, whiteM\n",
    "\n",
    "\n",
    "\n",
    "        \n",
    "\n",
    "def ICA(data,alpha):\n",
    "    X = signal_data_matrix(data)\n",
    "\n",
    "    X, = whiten(X)\n",
    "    \n",
    "    #initialize the matrix\n",
    "    W_new = np.matrix(np.eye(len(X.T)))\n",
    "\n",
    "    W_old = W_new + 1\n",
    "\n",
    "    while Frobenius_norm(W_new - W_old)>0.00001:\n",
    "        W_old = W_new\n",
    "        \n",
    "\n",
    "        for i in range(len(X)):\n",
    "            lis = []\n",
    "            for j in range(len(X.T)):\n",
    "                lis.append(1 - sigmoidal(float(np.matmul(W_old[j],X[i].T))))\n",
    "            lis = np.matrix(lis).T\n",
    "            W_new = W_old + alpha*(np.matmul(lis,X[i]) + np.linalg.inv(W_old.T))\n",
    "        return np.matmul(W_new,X.T).T\n",
    "    \n",
    "\n",
    "    \n"
   ]
  },
  {
   "cell_type": "code",
   "execution_count": 34,
   "id": "ae1bd22b-fb10-4c9e-9c8d-f33ca2898497",
   "metadata": {},
   "outputs": [
    {
     "data": {
      "text/plain": [
       "-0.9472301513260163"
      ]
     },
     "execution_count": 34,
     "metadata": {},
     "output_type": "execute_result"
    }
   ],
   "source": [
    "X = signal_data_matrix(data)\n",
    "len(X.T)\n",
    "W_new = np.matrix(np.eye(len(X.T)))\n",
    "float(np.matmul(W_new[0],X[0].T))"
   ]
  },
  {
   "cell_type": "code",
   "execution_count": 39,
   "id": "bde85ed7-c65d-478b-b949-8fd9f47c6d41",
   "metadata": {},
   "outputs": [
    {
     "data": {
      "text/plain": [
       "array([-0.94723015, -0.16304181, -0.61002741, ...,  0.03620091,\n",
       "       -0.20889913, -3.20538208])"
      ]
     },
     "execution_count": 39,
     "metadata": {},
     "output_type": "execute_result"
    }
   ],
   "source": [
    "Z = ICA(data,0.01)\n",
    "x = np.array([float(i) for i in X[:,0]]).T\n",
    "y = np.array([float(i) for i in X[:,1]]).T\n",
    "z = np.array([float(i) for i in X[:,2]]).T\n",
    "x"
   ]
  },
  {
   "cell_type": "code",
   "execution_count": 26,
   "id": "370b4da6-57b0-441b-84ff-521dd66d468b",
   "metadata": {},
   "outputs": [
    {
     "data": {
      "image/png": "[encoded data removed]",
      "text/plain": [
       "<Figure size 432x288 with 1 Axes>"
      ]
     },
     "metadata": {
      "needs_background": "light"
     },
     "output_type": "display_data"
    }
   ],
   "source": [
    "fig = graph.figure()\n",
    "ax = graph.axes(projection ='3d')\n",
    "x = np.array([float(i) for i in Z[:,0]]).T\n",
    "y = np.array([float(i) for i in Z[:,1]]).T\n",
    "z = np.array([float(i) for i in Z[:,2]]).T\n",
    "\n",
    "ax.plot3D(x, y, z, 'green')\n",
    "ax.set_title('3D line plot geeks for geeks')\n",
    "graph.show()"
   ]
  },
  {
   "cell_type": "code",
   "execution_count": 22,
   "id": "57cb7485-2e69-4de1-9d27-c639cd2cbc1e",
   "metadata": {},
   "outputs": [],
   "source": [
    "m = np.mean(np.array(X),axis = 0)\n",
    "data1 = data\n",
    "for i in range(len(data)):\n",
    "    data1.iloc[i] = data1.iloc[i] - m"
   ]
  },
  {
   "cell_type": "code",
   "execution_count": 23,
   "id": "88bf40a3-efae-4685-8b9e-0f78de653cea",
   "metadata": {},
   "outputs": [
    {
     "data": {
      "text/html": [
       "<div>\n",
       "<style scoped>\n",
       "    .dataframe tbody tr th:only-of-type {\n",
       "        vertical-align: middle;\n",
       "    }\n",
       "\n",
       "    .dataframe tbody tr th {\n",
       "        vertical-align: top;\n",
       "    }\n",
       "\n",
       "    .dataframe thead th {\n",
       "        text-align: right;\n",
       "    }\n",
       "</style>\n",
       "<table border=\"1\" class=\"dataframe\">\n",
       "  <thead>\n",
       "    <tr style=\"text-align: right;\">\n",
       "      <th></th>\n",
       "      <th>0</th>\n",
       "      <th>1</th>\n",
       "      <th>2</th>\n",
       "    </tr>\n",
       "  </thead>\n",
       "  <tbody>\n",
       "    <tr>\n",
       "      <th>0</th>\n",
       "      <td>-0.947230</td>\n",
       "      <td>-1.075319</td>\n",
       "      <td>-2.093030</td>\n",
       "    </tr>\n",
       "    <tr>\n",
       "      <th>1</th>\n",
       "      <td>-0.163042</td>\n",
       "      <td>0.903626</td>\n",
       "      <td>-1.864480</td>\n",
       "    </tr>\n",
       "    <tr>\n",
       "      <th>2</th>\n",
       "      <td>-0.610027</td>\n",
       "      <td>0.236565</td>\n",
       "      <td>-2.187311</td>\n",
       "    </tr>\n",
       "    <tr>\n",
       "      <th>3</th>\n",
       "      <td>-0.168578</td>\n",
       "      <td>0.805994</td>\n",
       "      <td>-1.292201</td>\n",
       "    </tr>\n",
       "    <tr>\n",
       "      <th>4</th>\n",
       "      <td>-0.381523</td>\n",
       "      <td>0.533872</td>\n",
       "      <td>-1.768502</td>\n",
       "    </tr>\n",
       "    <tr>\n",
       "      <th>...</th>\n",
       "      <td>...</td>\n",
       "      <td>...</td>\n",
       "      <td>...</td>\n",
       "    </tr>\n",
       "    <tr>\n",
       "      <th>1995</th>\n",
       "      <td>0.196072</td>\n",
       "      <td>-0.453698</td>\n",
       "      <td>1.707087</td>\n",
       "    </tr>\n",
       "    <tr>\n",
       "      <th>1996</th>\n",
       "      <td>0.787768</td>\n",
       "      <td>-0.019478</td>\n",
       "      <td>2.541346</td>\n",
       "    </tr>\n",
       "    <tr>\n",
       "      <th>1997</th>\n",
       "      <td>0.036201</td>\n",
       "      <td>-0.446173</td>\n",
       "      <td>1.108863</td>\n",
       "    </tr>\n",
       "    <tr>\n",
       "      <th>1998</th>\n",
       "      <td>-0.208899</td>\n",
       "      <td>-1.154474</td>\n",
       "      <td>1.204019</td>\n",
       "    </tr>\n",
       "    <tr>\n",
       "      <th>1999</th>\n",
       "      <td>-3.205382</td>\n",
       "      <td>-3.789473</td>\n",
       "      <td>-5.103198</td>\n",
       "    </tr>\n",
       "  </tbody>\n",
       "</table>\n",
       "<p>2000 rows × 3 columns</p>\n",
       "</div>"
      ],
      "text/plain": [
       "             0         1         2\n",
       "0    -0.947230 -1.075319 -2.093030\n",
       "1    -0.163042  0.903626 -1.864480\n",
       "2    -0.610027  0.236565 -2.187311\n",
       "3    -0.168578  0.805994 -1.292201\n",
       "4    -0.381523  0.533872 -1.768502\n",
       "...        ...       ...       ...\n",
       "1995  0.196072 -0.453698  1.707087\n",
       "1996  0.787768 -0.019478  2.541346\n",
       "1997  0.036201 -0.446173  1.108863\n",
       "1998 -0.208899 -1.154474  1.204019\n",
       "1999 -3.205382 -3.789473 -5.103198\n",
       "\n",
       "[2000 rows x 3 columns]"
      ]
     },
     "execution_count": 23,
     "metadata": {},
     "output_type": "execute_result"
    }
   ],
   "source": [
    "data1"
   ]
  },
  {
   "cell_type": "code",
   "execution_count": 30,
   "id": "f977ee36-c3d1-4030-bbd8-fe4d961dfff4",
   "metadata": {},
   "outputs": [
    {
     "data": {
      "text/plain": [
       "array([       inf, 0.70710678, 0.70710678, ..., 1.        , 1.        ,\n",
       "       1.        ])"
      ]
     },
     "execution_count": 30,
     "metadata": {},
     "output_type": "execute_result"
    }
   ],
   "source": [
    "t = np.cov(np.array(X))\n",
    "u = np.round(t)\n",
    "np.diag(1/np.sqrt(u))"
   ]
  },
  {
   "cell_type": "code",
   "execution_count": 47,
   "id": "9fdf105d-39e3-4d70-865c-d120290b556a",
   "metadata": {},
   "outputs": [
    {
     "data": {
      "text/plain": [
       "array([-2.0930299 , -1.86447985, -2.18731058, ...,  1.10886274,\n",
       "        1.2040189 , -5.10319803])"
      ]
     },
     "execution_count": 47,
     "metadata": {},
     "output_type": "execute_result"
    },
    {
     "data": {
      "image/png": "[encoded data removed]",
      "text/plain": [
       "<Figure size 432x288 with 1 Axes>"
      ]
     },
     "metadata": {
      "needs_background": "light"
     },
     "output_type": "display_data"
    }
   ],
   "source": [
    "X = signal_data_matrix(data1)\n",
    "x = np.array([float(i) for i in X[:,0]]).T\n",
    "y = np.array([float(i) for i in X[:,1]]).T\n",
    "z = np.array([float(i) for i in X[:,2]]).T\n",
    "graph.plot([i for i in range(len(x))],x)\n",
    "graph.plot([i for i in range(len(y))],y)\n",
    "graph.plot([i for i in range(len(z))],z)\n",
    "z"
   ]
  },
  {
   "cell_type": "code",
   "execution_count": 52,
   "id": "52926c84-6fc7-4564-b211-6c1c2022fc56",
   "metadata": {},
   "outputs": [
    {
     "ename": "AttributeError",
     "evalue": "'tuple' object has no attribute 'T'",
     "output_type": "error",
     "traceback": [
      "\u001b[0;31m---------------------------------------------------------------------------\u001b[0m",
      "\u001b[0;31mAttributeError\u001b[0m                            Traceback (most recent call last)",
      "\u001b[0;32m/tmp/ipykernel_3838/58515240.py\u001b[0m in \u001b[0;36m<module>\u001b[0;34m\u001b[0m\n\u001b[0;32m----> 1\u001b[0;31m \u001b[0mZ\u001b[0m \u001b[0;34m=\u001b[0m \u001b[0mICA\u001b[0m\u001b[0;34m(\u001b[0m\u001b[0mdata1\u001b[0m\u001b[0;34m,\u001b[0m\u001b[0;36m0.001\u001b[0m\u001b[0;34m)\u001b[0m\u001b[0;34m\u001b[0m\u001b[0;34m\u001b[0m\u001b[0m\n\u001b[0m\u001b[1;32m      2\u001b[0m \u001b[0mx\u001b[0m \u001b[0;34m=\u001b[0m \u001b[0mnp\u001b[0m\u001b[0;34m.\u001b[0m\u001b[0marray\u001b[0m\u001b[0;34m(\u001b[0m\u001b[0;34m[\u001b[0m\u001b[0mfloat\u001b[0m\u001b[0;34m(\u001b[0m\u001b[0mi\u001b[0m\u001b[0;34m)\u001b[0m \u001b[0;32mfor\u001b[0m \u001b[0mi\u001b[0m \u001b[0;32min\u001b[0m \u001b[0mZ\u001b[0m\u001b[0;34m[\u001b[0m\u001b[0;34m:\u001b[0m\u001b[0;34m,\u001b[0m\u001b[0;36m0\u001b[0m\u001b[0;34m]\u001b[0m\u001b[0;34m]\u001b[0m\u001b[0;34m)\u001b[0m\u001b[0;34m.\u001b[0m\u001b[0mT\u001b[0m\u001b[0;34m\u001b[0m\u001b[0;34m\u001b[0m\u001b[0m\n\u001b[1;32m      3\u001b[0m \u001b[0my\u001b[0m \u001b[0;34m=\u001b[0m \u001b[0mnp\u001b[0m\u001b[0;34m.\u001b[0m\u001b[0marray\u001b[0m\u001b[0;34m(\u001b[0m\u001b[0;34m[\u001b[0m\u001b[0mfloat\u001b[0m\u001b[0;34m(\u001b[0m\u001b[0mi\u001b[0m\u001b[0;34m)\u001b[0m \u001b[0;32mfor\u001b[0m \u001b[0mi\u001b[0m \u001b[0;32min\u001b[0m \u001b[0mZ\u001b[0m\u001b[0;34m[\u001b[0m\u001b[0;34m:\u001b[0m\u001b[0;34m,\u001b[0m\u001b[0;36m1\u001b[0m\u001b[0;34m]\u001b[0m\u001b[0;34m]\u001b[0m\u001b[0;34m)\u001b[0m\u001b[0;34m.\u001b[0m\u001b[0mT\u001b[0m\u001b[0;34m\u001b[0m\u001b[0;34m\u001b[0m\u001b[0m\n\u001b[1;32m      4\u001b[0m \u001b[0mz\u001b[0m \u001b[0;34m=\u001b[0m \u001b[0mnp\u001b[0m\u001b[0;34m.\u001b[0m\u001b[0marray\u001b[0m\u001b[0;34m(\u001b[0m\u001b[0;34m[\u001b[0m\u001b[0mfloat\u001b[0m\u001b[0;34m(\u001b[0m\u001b[0mi\u001b[0m\u001b[0;34m)\u001b[0m \u001b[0;32mfor\u001b[0m \u001b[0mi\u001b[0m \u001b[0;32min\u001b[0m \u001b[0mZ\u001b[0m\u001b[0;34m[\u001b[0m\u001b[0;34m:\u001b[0m\u001b[0;34m,\u001b[0m\u001b[0;36m2\u001b[0m\u001b[0;34m]\u001b[0m\u001b[0;34m]\u001b[0m\u001b[0;34m)\u001b[0m\u001b[0;34m.\u001b[0m\u001b[0mT\u001b[0m\u001b[0;34m\u001b[0m\u001b[0;34m\u001b[0m\u001b[0m\n\u001b[1;32m      5\u001b[0m \u001b[0mgraph\u001b[0m\u001b[0;34m.\u001b[0m\u001b[0mplot\u001b[0m\u001b[0;34m(\u001b[0m\u001b[0;34m[\u001b[0m\u001b[0mi\u001b[0m \u001b[0;32mfor\u001b[0m \u001b[0mi\u001b[0m \u001b[0;32min\u001b[0m \u001b[0mrange\u001b[0m\u001b[0;34m(\u001b[0m\u001b[0mlen\u001b[0m\u001b[0;34m(\u001b[0m\u001b[0mx\u001b[0m\u001b[0;34m)\u001b[0m\u001b[0;34m)\u001b[0m\u001b[0;34m]\u001b[0m\u001b[0;34m,\u001b[0m\u001b[0mx\u001b[0m\u001b[0;34m)\u001b[0m\u001b[0;34m\u001b[0m\u001b[0;34m\u001b[0m\u001b[0m\n",
      "\u001b[0;32m/tmp/ipykernel_3838/70814540.py\u001b[0m in \u001b[0;36mICA\u001b[0;34m(data, alpha)\u001b[0m\n\u001b[1;32m     58\u001b[0m \u001b[0;34m\u001b[0m\u001b[0m\n\u001b[1;32m     59\u001b[0m     \u001b[0;31m#initialize the matrix\u001b[0m\u001b[0;34m\u001b[0m\u001b[0;34m\u001b[0m\u001b[0m\n\u001b[0;32m---> 60\u001b[0;31m     \u001b[0mW_new\u001b[0m \u001b[0;34m=\u001b[0m \u001b[0mnp\u001b[0m\u001b[0;34m.\u001b[0m\u001b[0mmatrix\u001b[0m\u001b[0;34m(\u001b[0m\u001b[0mnp\u001b[0m\u001b[0;34m.\u001b[0m\u001b[0meye\u001b[0m\u001b[0;34m(\u001b[0m\u001b[0mlen\u001b[0m\u001b[0;34m(\u001b[0m\u001b[0mX\u001b[0m\u001b[0;34m.\u001b[0m\u001b[0mT\u001b[0m\u001b[0;34m)\u001b[0m\u001b[0;34m)\u001b[0m\u001b[0;34m)\u001b[0m\u001b[0;34m\u001b[0m\u001b[0;34m\u001b[0m\u001b[0m\n\u001b[0m\u001b[1;32m     61\u001b[0m \u001b[0;34m\u001b[0m\u001b[0m\n\u001b[1;32m     62\u001b[0m     \u001b[0mW_old\u001b[0m \u001b[0;34m=\u001b[0m \u001b[0mW_new\u001b[0m \u001b[0;34m+\u001b[0m \u001b[0;36m1\u001b[0m\u001b[0;34m\u001b[0m\u001b[0;34m\u001b[0m\u001b[0m\n",
      "\u001b[0;31mAttributeError\u001b[0m: 'tuple' object has no attribute 'T'"
     ]
    }
   ],
   "source": [
    "Z = ICA(data1,0.001)\n",
    "x = np.array([float(i) for i in Z[:,0]]).T\n",
    "y = np.array([float(i) for i in Z[:,1]]).T\n",
    "z = np.array([float(i) for i in Z[:,2]]).T\n",
    "graph.plot([i for i in range(len(x))],x)\n",
    "graph.plot([i for i in range(len(y))],y)\n",
    "graph.plot([i for i in range(len(z))],z)\n"
   ]
  },
  {
   "cell_type": "code",
   "execution_count": null,
   "id": "53eba11e-317b-48c6-83c3-b4a441611bcb",
   "metadata": {},
   "outputs": [],
   "source": []
  }
 ],
 "metadata": {
  "kernelspec": {
   "display_name": "Python 3 (ipykernel)",
   "language": "python",
   "name": "python3"
  },
  "language_info": {
   "codemirror_mode": {
    "name": "ipython",
    "version": 3
   },
   "file_extension": ".py",
   "mimetype": "text/x-python",
   "name": "python",
   "nbconvert_exporter": "python",
   "pygments_lexer": "ipython3",
   "version": "3.10.12"
  }
 },
 "nbformat": 4,
 "nbformat_minor": 5
}
